{
  "nbformat": 4,
  "nbformat_minor": 0,
  "metadata": {
    "colab": {
      "provenance": []
    },
    "kernelspec": {
      "name": "python3",
      "display_name": "Python 3"
    },
    "language_info": {
      "name": "python"
    }
  },
  "cells": [
    {
      "cell_type": "markdown",
      "source": [
        "# Instalacion de Paquetes"
      ],
      "metadata": {
        "id": "SkmYFgtRuWAl"
      }
    },
    {
      "cell_type": "code",
      "source": [
        "!pip install pytesseract\n",
        "\n",
        "!pip install pdf2image"
      ],
      "metadata": {
        "id": "UJfa5r3IUrXO"
      },
      "execution_count": null,
      "outputs": []
    },
    {
      "cell_type": "code",
      "source": [
        "!apt-get install poppler-utils"
      ],
      "metadata": {
        "id": "yQtQ3MNmVMIu"
      },
      "execution_count": null,
      "outputs": []
    },
    {
      "cell_type": "code",
      "source": [
        "!apt-get install tesseract-ocr\n",
        "!apt-get install libtesseract-dev\n"
      ],
      "metadata": {
        "colab": {
          "base_uri": "https://localhost:8080/"
        },
        "id": "BT7nUk8iX7EB",
        "outputId": "1dfc2669-7554-4341-8f5a-f7aa032895b4"
      },
      "execution_count": null,
      "outputs": [
        {
          "output_type": "stream",
          "name": "stdout",
          "text": [
            "Reading package lists... Done\n",
            "Building dependency tree... Done\n",
            "Reading state information... Done\n",
            "The following additional packages will be installed:\n",
            "  tesseract-ocr-eng tesseract-ocr-osd\n",
            "The following NEW packages will be installed:\n",
            "  tesseract-ocr tesseract-ocr-eng tesseract-ocr-osd\n",
            "0 upgraded, 3 newly installed, 0 to remove and 45 not upgraded.\n",
            "Need to get 4,816 kB of archives.\n",
            "After this operation, 15.6 MB of additional disk space will be used.\n",
            "Get:1 http://archive.ubuntu.com/ubuntu jammy/universe amd64 tesseract-ocr-eng all 1:4.00~git30-7274cfa-1.1 [1,591 kB]\n",
            "Get:2 http://archive.ubuntu.com/ubuntu jammy/universe amd64 tesseract-ocr-osd all 1:4.00~git30-7274cfa-1.1 [2,990 kB]\n",
            "Get:3 http://archive.ubuntu.com/ubuntu jammy/universe amd64 tesseract-ocr amd64 4.1.1-2.1build1 [236 kB]\n",
            "Fetched 4,816 kB in 0s (11.4 MB/s)\n",
            "Selecting previously unselected package tesseract-ocr-eng.\n",
            "(Reading database ... 121943 files and directories currently installed.)\n",
            "Preparing to unpack .../tesseract-ocr-eng_1%3a4.00~git30-7274cfa-1.1_all.deb ...\n",
            "Unpacking tesseract-ocr-eng (1:4.00~git30-7274cfa-1.1) ...\n",
            "Selecting previously unselected package tesseract-ocr-osd.\n",
            "Preparing to unpack .../tesseract-ocr-osd_1%3a4.00~git30-7274cfa-1.1_all.deb ...\n",
            "Unpacking tesseract-ocr-osd (1:4.00~git30-7274cfa-1.1) ...\n",
            "Selecting previously unselected package tesseract-ocr.\n",
            "Preparing to unpack .../tesseract-ocr_4.1.1-2.1build1_amd64.deb ...\n",
            "Unpacking tesseract-ocr (4.1.1-2.1build1) ...\n",
            "Setting up tesseract-ocr-eng (1:4.00~git30-7274cfa-1.1) ...\n",
            "Setting up tesseract-ocr-osd (1:4.00~git30-7274cfa-1.1) ...\n",
            "Setting up tesseract-ocr (4.1.1-2.1build1) ...\n",
            "Processing triggers for man-db (2.10.2-1) ...\n",
            "Reading package lists... Done\n",
            "Building dependency tree... Done\n",
            "Reading state information... Done\n",
            "The following additional packages will be installed:\n",
            "  libarchive-dev libleptonica-dev\n",
            "The following NEW packages will be installed:\n",
            "  libarchive-dev libleptonica-dev libtesseract-dev\n",
            "0 upgraded, 3 newly installed, 0 to remove and 45 not upgraded.\n",
            "Need to get 3,744 kB of archives.\n",
            "After this operation, 16.0 MB of additional disk space will be used.\n",
            "Get:1 http://archive.ubuntu.com/ubuntu jammy-updates/main amd64 libarchive-dev amd64 3.6.0-1ubuntu1.1 [582 kB]\n",
            "Get:2 http://archive.ubuntu.com/ubuntu jammy/universe amd64 libleptonica-dev amd64 1.82.0-3build1 [1,562 kB]\n",
            "Get:3 http://archive.ubuntu.com/ubuntu jammy/universe amd64 libtesseract-dev amd64 4.1.1-2.1build1 [1,600 kB]\n",
            "Fetched 3,744 kB in 0s (11.9 MB/s)\n",
            "Selecting previously unselected package libarchive-dev:amd64.\n",
            "(Reading database ... 121990 files and directories currently installed.)\n",
            "Preparing to unpack .../libarchive-dev_3.6.0-1ubuntu1.1_amd64.deb ...\n",
            "Unpacking libarchive-dev:amd64 (3.6.0-1ubuntu1.1) ...\n",
            "Selecting previously unselected package libleptonica-dev.\n",
            "Preparing to unpack .../libleptonica-dev_1.82.0-3build1_amd64.deb ...\n",
            "Unpacking libleptonica-dev (1.82.0-3build1) ...\n",
            "Selecting previously unselected package libtesseract-dev:amd64.\n",
            "Preparing to unpack .../libtesseract-dev_4.1.1-2.1build1_amd64.deb ...\n",
            "Unpacking libtesseract-dev:amd64 (4.1.1-2.1build1) ...\n",
            "Setting up libleptonica-dev (1.82.0-3build1) ...\n",
            "Setting up libarchive-dev:amd64 (3.6.0-1ubuntu1.1) ...\n",
            "Setting up libtesseract-dev:amd64 (4.1.1-2.1build1) ...\n",
            "Processing triggers for man-db (2.10.2-1) ...\n"
          ]
        }
      ]
    },
    {
      "cell_type": "markdown",
      "source": [
        "# Codigo"
      ],
      "metadata": {
        "id": "ZkH6M9Zhuc5E"
      }
    },
    {
      "cell_type": "code",
      "execution_count": null,
      "metadata": {
        "id": "szz24zysTqm0",
        "colab": {
          "base_uri": "https://localhost:8080/"
        },
        "outputId": "b2ec7f0e-395c-42f5-981e-bb0db74c3697"
      },
      "outputs": [
        {
          "output_type": "stream",
          "name": "stdout",
          "text": [
            "Ocurrió un error durante la conversión del PDF: (1, 'Error opening data file /usr/share/tesseract-ocr/4.00/tessdata/spa.traineddata Please make sure the TESSDATA_PREFIX environment variable is set to your \"tessdata\" directory. Failed loading language \\'spa\\' Tesseract couldn\\'t load any languages! Could not initialize tesseract.')\n"
          ]
        }
      ],
      "source": [
        "import pytesseract\n",
        "from pdf2image import convert_from_path\n",
        "from pdf2image.exceptions import PDFPageCountError\n",
        "import os\n",
        "\n",
        "# Establecer la variable de entorno TESSDATA_PREFIX\n",
        "os.environ['TESSDATA_PREFIX'] = '/usr/share/tesseract-ocr/4.00/tessdata/'\n",
        "\n",
        "# Ruta al archivo PDF escaneado\n",
        "pdf_path = 'archivo.pdf'\n",
        "\n",
        "try:\n",
        "    # Convertir PDF a imágenes\n",
        "    pages = convert_from_path(pdf_path, 300)  # 300 DPI es una resolución común\n",
        "\n",
        "    # Configurar pytesseract para usar Tesseract OCR\n",
        "    pytesseract.pytesseract.tesseract_cmd = '/usr/bin/tesseract'  # Ruta en Google Colab\n",
        "\n",
        "    # Procesar cada página\n",
        "    texto_final = ''\n",
        "    for page in pages:\n",
        "        texto = pytesseract.image_to_string(page, lang='spa')  # 'spa' para español\n",
        "        texto_final += texto\n",
        "\n",
        "    # Guardar el texto en un archivo\n",
        "    with open('texto_extraido.txt', 'w', encoding='utf-8') as f:\n",
        "        f.write(texto_final)\n",
        "\n",
        "    print('Extracción de texto completada. El texto ha sido guardado en texto_extraido.txt')\n",
        "\n",
        "except PDFPageCountError as e:\n",
        "    print(f\"Error al obtener la información de páginas del PDF: {e}\")\n",
        "\n",
        "except Exception as e:\n",
        "    print(f\"Ocurrió un error durante la conversión del PDF: {e}\")\n"
      ]
    },
    {
      "cell_type": "code",
      "source": [
        "import subprocess\n",
        "import pytesseract\n",
        "from pdf2image import convert_from_path\n",
        "from pdf2image.exceptions import PDFPageCountError\n",
        "import os\n",
        "\n",
        "# Descargar los datos del idioma español para Tesseract (si es necesario)\n",
        "try:\n",
        "    subprocess.check_output(['apt-get', 'install', 'tesseract-ocr-spa'])\n",
        "except subprocess.CalledProcessError as e:\n",
        "    print(f\"Error al descargar los datos del idioma español: {e}\")\n",
        "\n",
        "# Establecer la variable de entorno TESSDATA_PREFIX\n",
        "os.environ['TESSDATA_PREFIX'] = '/usr/share/tesseract-ocr/4.00/tessdata/'\n",
        "\n",
        "# Ruta al archivo PDF escaneado\n",
        "pdf_path = 'archivo.pdf'\n",
        "\n",
        "try:\n",
        "    # Convertir PDF a imágenes\n",
        "    pages = convert_from_path(pdf_path, 300)  # 300 DPI es una resolución común\n",
        "\n",
        "    # Configurar pytesseract para usar Tesseract OCR\n",
        "    pytesseract.pytesseract.tesseract_cmd = '/usr/bin/tesseract'  # Ruta en Google Colab\n",
        "\n",
        "    # Procesar cada página\n",
        "    texto_final = ''\n",
        "    for page in pages:\n",
        "        texto = pytesseract.image_to_string(page, lang='spa')  # 'spa' para español\n",
        "        texto_final += texto\n",
        "\n",
        "    # Guardar el texto en un archivo\n",
        "    with open('texto_extraido.txt', 'w', encoding='utf-8') as f:\n",
        "        f.write(texto_final)\n",
        "\n",
        "    print('Extracción de texto completada. El texto ha sido guardado en texto_extraido.txt')\n",
        "\n",
        "except PDFPageCountError as e:\n",
        "    print(f\"Error al obtener la información de páginas del PDF: {e}\")\n",
        "\n",
        "except Exception as e:\n",
        "    print(f\"Ocurrió un error durante la conversión del PDF: {e}\")\n"
      ],
      "metadata": {
        "colab": {
          "base_uri": "https://localhost:8080/"
        },
        "id": "Ss8h9-NlY4CA",
        "outputId": "8289b35e-0c1c-4c4e-bc2f-50470756873c"
      },
      "execution_count": null,
      "outputs": [
        {
          "output_type": "stream",
          "name": "stdout",
          "text": [
            "Extracción de texto completada. El texto ha sido guardado en texto_extraido.txt\n"
          ]
        }
      ]
    }
  ]
}